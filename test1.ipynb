{
 "metadata": {
  "language_info": {
   "codemirror_mode": {
    "name": "ipython",
    "version": 3
   },
   "file_extension": ".py",
   "mimetype": "text/x-python",
   "name": "python",
   "nbconvert_exporter": "python",
   "pygments_lexer": "ipython3",
   "version": "3.8.2-final"
  },
  "orig_nbformat": 2,
  "kernelspec": {
   "name": "Python 3.8.2 64-bit",
   "display_name": "Python 3.8.2 64-bit",
   "metadata": {
    "interpreter": {
     "hash": "ac58e2f83399b9e6c99868d7f2eb64207985182e9b6cca429030785f95ea106e"
    }
   }
  }
 },
 "nbformat": 4,
 "nbformat_minor": 2,
 "cells": [
  {
   "cell_type": "code",
   "execution_count": 29,
   "metadata": {},
   "outputs": [
    {
     "output_type": "stream",
     "name": "stdout",
     "text": [
      "(50000,)\n(784, 50000)\n"
     ]
    }
   ],
   "source": [
    "import tqdm\n",
    "from layer import *\n",
    "from data_visulisation import *\n",
    "X_train,Y_train,X_test,Y_test=dataset()\n",
    "Y_train_1=Y_train\n",
    "Y_train=Y_train.reshape((1,-1))\n",
    "Y_test\n",
    "dims=[]\n",
    "dims.append(X_train.shape[0])\n",
    "dims.append(200)\n",
    "dims.append(100)\n",
    "print(X_train.shape)"
   ]
  },
  {
   "cell_type": "code",
   "execution_count": 30,
   "metadata": {},
   "outputs": [
    {
     "output_type": "stream",
     "name": "stdout",
     "text": [
      "(784, 10000) (10000,)\n"
     ]
    }
   ],
   "source": [
    "print(X_test.shape,Y_test.shape)\n",
    "dims.append(10)\n",
    "parameters=initialize_layer(dims)"
   ]
  },
  {
   "cell_type": "code",
   "execution_count": 31,
   "metadata": {},
   "outputs": [],
   "source": [
    "def train(X_train,Y_train,parameters):\n",
    "    AL,caches=L_layer_forward_pass(X_train,parameters)\n",
    "    loss=softmax_loss(AL,Y_train)\n",
    "    grads=L_model_backward(AL, Y_train, caches)\n",
    "    parameters=update_parameters(parameters, grads, 0.1)\n",
    "    return np.mean(loss)\n",
    "    "
   ]
  },
  {
   "cell_type": "code",
   "execution_count": 32,
   "metadata": {},
   "outputs": [],
   "source": [
    "def predict(X,Y,parameters):\n",
    "    AL,caches=L_layer_forward_pass(X,parameters)\n",
    "    \n",
    "    p=np.argmax(AL,axis=0)\n",
    "    #print(AL[:,[0,1,2,3,4,5,6]])\n",
    "    #print(AL.shape,p.shape,Y.shape)\n",
    "    #print(p[0:10],Y[0:10])\n",
    "    return str(np.mean(p == Y))"
   ]
  },
  {
   "cell_type": "code",
   "execution_count": 33,
   "metadata": {},
   "outputs": [],
   "source": [
    "def iterate_minibatches(inputs, targets, batchsize):\n",
    "    for start_idx in tqdm.tqdm(range(0, inputs.shape[1] - batchsize + 1, batchsize)):\n",
    "        yield inputs[:,start_idx:start_idx+batchsize], targets[:,start_idx:start_idx+batchsize]"
   ]
  },
  {
   "cell_type": "code",
   "execution_count": 34,
   "metadata": {},
   "outputs": [
    {
     "output_type": "stream",
     "name": "stdout",
     "text": [
      "50000 50000\n"
     ]
    }
   ],
   "source": [
    "print(len(X_train.T),len(Y_train.T))"
   ]
  },
  {
   "cell_type": "code",
   "execution_count": 35,
   "metadata": {},
   "outputs": [],
   "source": [
    "# for i in tqdm.tqdm(range(5000)):\n",
    "#     AL,caches=L_layer_forward_pass(X_train,parameters)\n",
    "#     loss=softmax_loss(AL,Y_train)\n",
    "#     if i%500==0:\n",
    "#         print(loss.mean())\n",
    "#     grads=L_model_backward(AL, Y_train, caches)\n",
    "#     parameters=update_parameters(parameters, grads, 0.1)"
   ]
  },
  {
   "cell_type": "code",
   "execution_count": 36,
   "metadata": {},
   "outputs": [
    {
     "output_type": "stream",
     "name": "stderr",
     "text": [
      "100%|██████████| 1562/1562 [00:06<00:00, 232.49it/s]\n",
      "Test Accuracy:-  0.9514\n",
      "  2%|▏         | 24/1562 [00:00<00:06, 231.38it/s]train Accuracy:- 0.95496\n",
      "100%|██████████| 1562/1562 [00:06<00:00, 229.67it/s]\n",
      "Test Accuracy:-  0.9622\n",
      "  2%|▏         | 24/1562 [00:00<00:06, 231.31it/s]train Accuracy:- 0.96808\n",
      "100%|██████████| 1562/1562 [00:06<00:00, 229.17it/s]\n",
      "Test Accuracy:-  0.9645\n",
      "  1%|▏         | 23/1562 [00:00<00:06, 223.00it/s]train Accuracy:- 0.97466\n",
      "100%|██████████| 1562/1562 [00:07<00:00, 213.11it/s]\n",
      "Test Accuracy:-  0.9705\n",
      "  2%|▏         | 25/1562 [00:00<00:06, 243.37it/s]train Accuracy:- 0.98002\n",
      "100%|██████████| 1562/1562 [00:06<00:00, 242.29it/s]\n",
      "Test Accuracy:-  0.971\n",
      "  2%|▏         | 27/1562 [00:00<00:05, 262.83it/s]train Accuracy:- 0.98304\n",
      "100%|██████████| 1562/1562 [00:06<00:00, 259.83it/s]\n",
      "Test Accuracy:-  0.9702\n",
      "  2%|▏         | 26/1562 [00:00<00:06, 250.67it/s]train Accuracy:- 0.98398\n",
      "100%|██████████| 1562/1562 [00:06<00:00, 236.33it/s]\n",
      "Test Accuracy:-  0.9732\n",
      "  2%|▏         | 25/1562 [00:00<00:06, 248.17it/s]train Accuracy:- 0.98966\n",
      "100%|██████████| 1562/1562 [00:06<00:00, 243.22it/s]\n",
      "Test Accuracy:-  0.9734\n",
      "  2%|▏         | 25/1562 [00:00<00:06, 248.27it/s]train Accuracy:- 0.99086\n",
      "100%|██████████| 1562/1562 [00:06<00:00, 243.45it/s]\n",
      "Test Accuracy:-  0.9741\n",
      "  2%|▏         | 24/1562 [00:00<00:06, 237.73it/s]train Accuracy:- 0.99312\n",
      "100%|██████████| 1562/1562 [00:06<00:00, 243.82it/s]\n",
      "Test Accuracy:-  0.9758\n",
      "  3%|▎         | 49/1562 [00:00<00:06, 245.20it/s]train Accuracy:- 0.99478\n",
      "100%|██████████| 1562/1562 [00:06<00:00, 240.03it/s]\n",
      "Test Accuracy:-  0.9766\n",
      "  2%|▏         | 26/1562 [00:00<00:06, 255.95it/s]train Accuracy:- 0.99698\n",
      "100%|██████████| 1562/1562 [00:06<00:00, 245.65it/s]\n",
      "Test Accuracy:-  0.9779\n",
      "  3%|▎         | 51/1562 [00:00<00:06, 250.83it/s]train Accuracy:- 0.9975\n",
      "100%|██████████| 1562/1562 [00:06<00:00, 240.85it/s]\n",
      "Test Accuracy:-  0.9779\n",
      "  2%|▏         | 25/1562 [00:00<00:06, 241.02it/s]train Accuracy:- 0.99862\n",
      "100%|██████████| 1562/1562 [00:06<00:00, 232.82it/s]\n",
      "Test Accuracy:-  0.9788\n",
      "  1%|▏         | 23/1562 [00:00<00:06, 223.90it/s]train Accuracy:- 0.99928\n",
      "100%|██████████| 1562/1562 [00:06<00:00, 231.12it/s]\n",
      "Test Accuracy:-  0.9789\n",
      "  1%|▏         | 22/1562 [00:00<00:07, 216.33it/s]train Accuracy:- 0.99958\n",
      "100%|██████████| 1562/1562 [00:06<00:00, 237.89it/s]\n",
      "Test Accuracy:-  0.9793\n",
      "  2%|▏         | 24/1562 [00:00<00:06, 234.75it/s]train Accuracy:- 0.99972\n",
      "100%|██████████| 1562/1562 [00:06<00:00, 237.30it/s]\n",
      "Test Accuracy:-  0.9793\n",
      "  2%|▏         | 24/1562 [00:00<00:06, 232.43it/s]train Accuracy:- 0.99976\n",
      "100%|██████████| 1562/1562 [00:06<00:00, 233.26it/s]\n",
      "Test Accuracy:-  0.9799\n",
      "  2%|▏         | 25/1562 [00:00<00:06, 243.51it/s]train Accuracy:- 0.99984\n",
      "100%|██████████| 1562/1562 [00:06<00:00, 238.50it/s]\n",
      "Test Accuracy:-  0.9796\n",
      "  3%|▎         | 48/1562 [00:00<00:06, 238.21it/s]train Accuracy:- 0.99986\n",
      "100%|██████████| 1562/1562 [00:06<00:00, 233.38it/s]\n",
      "Test Accuracy:-  0.9801\n",
      "train Accuracy:- 0.9999\n"
     ]
    }
   ],
   "source": [
    "for epoch in range(20):\n",
    "\n",
    "    for x_batch,y_batch in iterate_minibatches(X_train,Y_train,batchsize=32):\n",
    "        AL,caches=L_layer_forward_pass(x_batch,parameters)\n",
    "        loss=softmax_loss(AL,y_batch)\n",
    "        grads=L_model_backward(AL, y_batch, caches)\n",
    "        parameters=update_parameters(parameters, grads, 0.1)\n",
    "    print(\"Test Accuracy:- \",predict(X_test,Y_test,parameters))\n",
    "    print(\"train Accuracy:-\",predict(X_train,Y_train_1,parameters))"
   ]
  },
  {
   "cell_type": "code",
   "execution_count": 37,
   "metadata": {},
   "outputs": [
    {
     "output_type": "execute_result",
     "data": {
      "text/plain": [
       "'0.9801'"
      ]
     },
     "metadata": {},
     "execution_count": 37
    }
   ],
   "source": [
    "predict(X_test,Y_test,parameters)"
   ]
  },
  {
   "cell_type": "code",
   "execution_count": 38,
   "metadata": {},
   "outputs": [
    {
     "output_type": "execute_result",
     "data": {
      "text/plain": [
       "'0.9999'"
      ]
     },
     "metadata": {},
     "execution_count": 38
    }
   ],
   "source": [
    "predict(X_train,Y_train_1,parameters)"
   ]
  },
  {
   "cell_type": "code",
   "execution_count": null,
   "metadata": {},
   "outputs": [],
   "source": []
  }
 ]
}