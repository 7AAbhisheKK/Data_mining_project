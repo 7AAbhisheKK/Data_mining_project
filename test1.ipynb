{
 "metadata": {
  "language_info": {
   "codemirror_mode": {
    "name": "ipython",
    "version": 3
   },
   "file_extension": ".py",
   "mimetype": "text/x-python",
   "name": "python",
   "nbconvert_exporter": "python",
   "pygments_lexer": "ipython3",
   "version": "3.8.2-final"
  },
  "orig_nbformat": 2,
  "kernelspec": {
   "name": "Python 3.8.2 64-bit",
   "display_name": "Python 3.8.2 64-bit",
   "metadata": {
    "interpreter": {
     "hash": "ac58e2f83399b9e6c99868d7f2eb64207985182e9b6cca429030785f95ea106e"
    }
   }
  }
 },
 "nbformat": 4,
 "nbformat_minor": 2,
 "cells": [
  {
   "cell_type": "code",
   "execution_count": 11,
   "metadata": {},
   "outputs": [
    {
     "output_type": "stream",
     "name": "stdout",
     "text": [
      "(50000,)\n(784, 50000)\n"
     ]
    }
   ],
   "source": [
    "import tqdm\n",
    "from layer import *\n",
    "from data_visulisation import *\n",
    "X_train,Y_train,X_test,Y_test=dataset()\n",
    "Y_train_1=Y_train\n",
    "Y_train=Y_train.reshape((1,-1))\n",
    "Y_test\n",
    "dims=[]\n",
    "dims.append(X_train.shape[0])\n",
    "dims.append(128)\n",
    "dims.append(64)\n",
    "print(X_train.shape)"
   ]
  },
  {
   "cell_type": "code",
   "execution_count": 12,
   "metadata": {},
   "outputs": [
    {
     "output_type": "stream",
     "name": "stdout",
     "text": [
      "(784, 10000) (10000,)\n"
     ]
    }
   ],
   "source": [
    "print(X_test.shape,Y_test.shape)\n",
    "dims.append(10)\n",
    "parameters=initialize_layer(dims)"
   ]
  },
  {
   "cell_type": "code",
   "execution_count": 13,
   "metadata": {},
   "outputs": [],
   "source": [
    "def train(X_train,Y_train,parameters):\n",
    "    AL,caches=L_layer_forward_pass(X_train,parameters)\n",
    "    loss=softmax_loss(AL,Y_train)\n",
    "    grads=L_model_backward(AL, Y_train, caches)\n",
    "    parameters=update_parameters(parameters, grads, 0.1)\n",
    "    return np.mean(loss)\n",
    "    "
   ]
  },
  {
   "cell_type": "code",
   "execution_count": 14,
   "metadata": {},
   "outputs": [],
   "source": [
    "def predict(X,Y,parameters):\n",
    "    AL,caches=L_layer_forward_pass(X,parameters)\n",
    "    \n",
    "    p=np.argmax(AL,axis=0)\n",
    "    #print(AL[:,[0,1,2,3,4,5,6]])\n",
    "    #print(AL.shape,p.shape,Y.shape)\n",
    "    #print(p[0:10],Y[0:10])\n",
    "    return str(np.mean(p == Y))"
   ]
  },
  {
   "cell_type": "code",
   "execution_count": 15,
   "metadata": {},
   "outputs": [],
   "source": [
    "def iterate_minibatches(inputs, targets, batchsize):\n",
    "    for start_idx in tqdm.tqdm(range(0, inputs.shape[1] - batchsize + 1, batchsize)):\n",
    "        yield inputs[:,start_idx:start_idx+batchsize], targets[:,start_idx:start_idx+batchsize]"
   ]
  },
  {
   "cell_type": "code",
   "execution_count": 16,
   "metadata": {},
   "outputs": [],
   "source": [
    "# for i in tqdm.tqdm(range(5000)):\n",
    "#     AL,caches=L_layer_forward_pass(X_train,parameters)\n",
    "#     loss=softmax_loss(AL,Y_train)\n",
    "#     if i%500==0:\n",
    "#         print(loss.mean())\n",
    "#     grads=L_model_backward(AL, Y_train, caches)\n",
    "#     parameters=update_parameters(parameters, grads, 0.1)"
   ]
  },
  {
   "cell_type": "code",
   "execution_count": 17,
   "metadata": {},
   "outputs": [
    {
     "output_type": "stream",
     "name": "stderr",
     "text": [
      "100%|██████████| 1562/1562 [00:02<00:00, 547.90it/s]\n",
      "Test Accuracy:-  0.9478\n",
      "  3%|▎         | 45/1562 [00:00<00:03, 449.75it/s]train Accuracy:- 0.95016\n",
      "100%|██████████| 1562/1562 [00:03<00:00, 420.50it/s]\n",
      "Test Accuracy:-  0.959\n",
      "  5%|▌         | 84/1562 [00:00<00:03, 420.06it/s]train Accuracy:- 0.96566\n",
      "100%|██████████| 1562/1562 [00:03<00:00, 418.12it/s]\n",
      "Test Accuracy:-  0.9668\n",
      "  6%|▌         | 92/1562 [00:00<00:03, 452.22it/s]train Accuracy:- 0.97446\n",
      "100%|██████████| 1562/1562 [00:03<00:00, 437.59it/s]\n",
      "Test Accuracy:-  0.9684\n",
      "  3%|▎         | 43/1562 [00:00<00:03, 423.18it/s]train Accuracy:- 0.97922\n",
      "100%|██████████| 1562/1562 [00:03<00:00, 430.81it/s]\n",
      "Test Accuracy:-  0.9701\n",
      "  6%|▌         | 87/1562 [00:00<00:03, 432.78it/s]train Accuracy:- 0.98254\n",
      "100%|██████████| 1562/1562 [00:03<00:00, 426.84it/s]\n",
      "Test Accuracy:-  0.9715\n",
      "  3%|▎         | 43/1562 [00:00<00:03, 424.71it/s]train Accuracy:- 0.98492\n",
      "100%|██████████| 1562/1562 [00:03<00:00, 428.52it/s]\n",
      "Test Accuracy:-  0.9756\n",
      "  3%|▎         | 46/1562 [00:00<00:03, 456.85it/s]train Accuracy:- 0.99068\n",
      "100%|██████████| 1562/1562 [00:03<00:00, 428.51it/s]\n",
      "Test Accuracy:-  0.9757\n",
      "  3%|▎         | 44/1562 [00:00<00:03, 434.23it/s]train Accuracy:- 0.99286\n",
      "100%|██████████| 1562/1562 [00:03<00:00, 462.47it/s]\n",
      "Test Accuracy:-  0.9739\n",
      "  4%|▎         | 58/1562 [00:00<00:02, 576.21it/s]train Accuracy:- 0.99176\n",
      "100%|██████████| 1562/1562 [00:02<00:00, 581.59it/s]\n",
      "Test Accuracy:-  0.9765\n",
      "  8%|▊         | 121/1562 [00:00<00:02, 600.42it/s]train Accuracy:- 0.9938\n",
      "100%|██████████| 1562/1562 [00:02<00:00, 599.76it/s]\n",
      "Test Accuracy:-  0.9772\n",
      "  4%|▍         | 64/1562 [00:00<00:02, 635.36it/s]train Accuracy:- 0.99506\n",
      "100%|██████████| 1562/1562 [00:02<00:00, 602.65it/s]\n",
      "Test Accuracy:-  0.9779\n",
      "  8%|▊         | 120/1562 [00:00<00:02, 601.72it/s]train Accuracy:- 0.99604\n",
      "100%|██████████| 1562/1562 [00:02<00:00, 532.40it/s]\n",
      "Test Accuracy:-  0.9754\n",
      "  2%|▏         | 32/1562 [00:00<00:04, 316.67it/s]train Accuracy:- 0.99448\n",
      "100%|██████████| 1562/1562 [00:03<00:00, 503.89it/s]\n",
      "Test Accuracy:-  0.9782\n",
      "  3%|▎         | 51/1562 [00:00<00:02, 506.31it/s]train Accuracy:- 0.99836\n",
      "100%|██████████| 1562/1562 [00:03<00:00, 504.05it/s]\n",
      "Test Accuracy:-  0.9781\n",
      "  3%|▎         | 43/1562 [00:00<00:03, 419.88it/s]train Accuracy:- 0.99784\n",
      "100%|██████████| 1562/1562 [00:03<00:00, 497.91it/s]\n",
      "Test Accuracy:-  0.9788\n",
      "  3%|▎         | 49/1562 [00:00<00:03, 486.45it/s]train Accuracy:- 0.99888\n",
      "100%|██████████| 1562/1562 [00:03<00:00, 507.33it/s]\n",
      "Test Accuracy:-  0.979\n",
      "  3%|▎         | 47/1562 [00:00<00:03, 454.03it/s]train Accuracy:- 0.99908\n",
      "100%|██████████| 1562/1562 [00:03<00:00, 505.25it/s]\n",
      "Test Accuracy:-  0.9794\n",
      "  3%|▎         | 43/1562 [00:00<00:03, 426.89it/s]train Accuracy:- 0.99954\n",
      "100%|██████████| 1562/1562 [00:03<00:00, 432.93it/s]\n",
      "Test Accuracy:-  0.9795\n",
      "  3%|▎         | 51/1562 [00:00<00:03, 501.34it/s]train Accuracy:- 0.99972\n",
      "100%|██████████| 1562/1562 [00:03<00:00, 491.10it/s]\n",
      "Test Accuracy:-  0.9801\n",
      "train Accuracy:- 0.99976\n"
     ]
    }
   ],
   "source": [
    "for epoch in range(20):\n",
    "\n",
    "    for x_batch,y_batch in iterate_minibatches(X_train,Y_train,batchsize=32):\n",
    "        AL,caches=L_layer_forward_pass(x_batch,parameters)\n",
    "        loss=softmax_loss(AL,y_batch)\n",
    "        grads=L_model_backward(AL, y_batch, caches)\n",
    "        parameters=update_parameters(parameters, grads, 0.1)\n",
    "    print(\"Test Accuracy:- \",predict(X_test,Y_test,parameters))\n",
    "    print(\"train Accuracy:-\",predict(X_train,Y_train_1,parameters))"
   ]
  },
  {
   "cell_type": "code",
   "execution_count": 18,
   "metadata": {},
   "outputs": [
    {
     "output_type": "execute_result",
     "data": {
      "text/plain": [
       "'0.9801'"
      ]
     },
     "metadata": {},
     "execution_count": 18
    }
   ],
   "source": [
    "predict(X_test,Y_test,parameters)"
   ]
  },
  {
   "cell_type": "code",
   "execution_count": 19,
   "metadata": {},
   "outputs": [
    {
     "output_type": "execute_result",
     "data": {
      "text/plain": [
       "'0.99976'"
      ]
     },
     "metadata": {},
     "execution_count": 19
    }
   ],
   "source": [
    "predict(X_train,Y_train_1,parameters)"
   ]
  },
  {
   "cell_type": "code",
   "execution_count": null,
   "metadata": {},
   "outputs": [],
   "source": []
  }
 ]
}