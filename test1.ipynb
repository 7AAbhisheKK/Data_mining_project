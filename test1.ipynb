{
 "metadata": {
  "language_info": {
   "codemirror_mode": {
    "name": "ipython",
    "version": 3
   },
   "file_extension": ".py",
   "mimetype": "text/x-python",
   "name": "python",
   "nbconvert_exporter": "python",
   "pygments_lexer": "ipython3",
   "version": "3.8.2-final"
  },
  "orig_nbformat": 2,
  "kernelspec": {
   "name": "Python 3.8.2 64-bit",
   "display_name": "Python 3.8.2 64-bit",
   "metadata": {
    "interpreter": {
     "hash": "ac58e2f83399b9e6c99868d7f2eb64207985182e9b6cca429030785f95ea106e"
    }
   }
  }
 },
 "nbformat": 4,
 "nbformat_minor": 2,
 "cells": [
  {
   "cell_type": "code",
   "execution_count": 24,
   "metadata": {},
   "outputs": [
    {
     "output_type": "stream",
     "name": "stdout",
     "text": [
      "(50000,)\n"
     ]
    }
   ],
   "source": [
    "import tqdm\n",
    "from layer import *\n",
    "from data_visulisation import *\n",
    "X_train,Y_train,X_test,Y_test=dataset()\n",
    "Y_train=Y_train.reshape((1,-1))\n",
    "dims=[]\n",
    "dims.append(X_train.shape[0])\n",
    "dims.append(128)\n",
    "dims.append(64)\n",
    "Y_test=Y_test.reshape((1,-1))"
   ]
  },
  {
   "cell_type": "code",
   "execution_count": 25,
   "metadata": {},
   "outputs": [
    {
     "output_type": "stream",
     "name": "stdout",
     "text": [
      "(784, 10000) (1, 10000)\n[784, 128, 64, 10]\n"
     ]
    }
   ],
   "source": [
    "print(X_test.shape,Y_test.shape)\n",
    "dims.append(10)\n",
    "parameters=initialize_layer(dims)\n",
    "print(dims)"
   ]
  },
  {
   "cell_type": "code",
   "execution_count": 26,
   "metadata": {},
   "outputs": [],
   "source": [
    "def train(X_train,Y_train,parameters):\n",
    "    AL,caches=L_layer_forward_pass(X_train,parameters)\n",
    "    loss=softmax_loss(AL,Y_train)\n",
    "    grads=L_model_backward(AL, Y_train, caches)\n",
    "    parameters=update_parameters(parameters, grads, 0.1)\n",
    "    return np.mean(loss)\n",
    "    "
   ]
  },
  {
   "cell_type": "code",
   "execution_count": 27,
   "metadata": {},
   "outputs": [],
   "source": [
    "def predict(X,Y,parameters):\n",
    "    AL,caches=L_layer_forward_pass(X,parameters)\n",
    "    \n",
    "    p=np.argmax(AL,axis=0)\n",
    "    #print(AL[:,[0,1,2,3,4,5,6]])\n",
    "    #print(AL.shape,p.shape,Y.shape)\n",
    "    #print(p[0:10],Y[0:10])\n",
    "    return str(np.mean(p == Y))"
   ]
  },
  {
   "cell_type": "code",
   "execution_count": 28,
   "metadata": {},
   "outputs": [],
   "source": [
    "def iterate_minibatches(inputs, targets, batchsize):\n",
    "    for start_idx in tqdm.tqdm(range(0, inputs.shape[1] - batchsize + 1, batchsize)):\n",
    "        yield inputs[:,start_idx:start_idx+batchsize], targets[:,start_idx:start_idx+batchsize]"
   ]
  },
  {
   "cell_type": "code",
   "execution_count": 29,
   "metadata": {},
   "outputs": [],
   "source": [
    "# for i in tqdm.tqdm(range(5000)):\n",
    "#     AL,caches=L_layer_forward_pass(X_train,parameters)\n",
    "#     loss=softmax_loss(AL,Y_train)\n",
    "#     if i%500==0:\n",
    "#         print(loss.mean())\n",
    "#     grads=L_model_backward(AL, Y_train, caches)\n",
    "#     parameters=update_parameters(parameters, grads, 0.1)"
   ]
  },
  {
   "cell_type": "code",
   "execution_count": 30,
   "metadata": {},
   "outputs": [
    {
     "output_type": "stream",
     "name": "stderr",
     "text": [
      "100%|██████████| 1562/1562 [00:02<00:00, 690.75it/s]\n",
      "Test Accuracy:-  0.9478\n",
      "  4%|▍         | 62/1562 [00:00<00:02, 616.56it/s]train Accuracy:- 0.95016\n",
      "100%|██████████| 1562/1562 [00:02<00:00, 587.99it/s]\n",
      "Test Accuracy:-  0.959\n",
      "  4%|▍         | 64/1562 [00:00<00:02, 629.13it/s]train Accuracy:- 0.96566\n",
      "100%|██████████| 1562/1562 [00:02<00:00, 596.84it/s]\n",
      "Test Accuracy:-  0.9668\n",
      "  4%|▍         | 63/1562 [00:00<00:02, 619.04it/s]train Accuracy:- 0.97446\n",
      "100%|██████████| 1562/1562 [00:02<00:00, 571.77it/s]\n",
      "Test Accuracy:-  0.9684\n",
      "  4%|▍         | 64/1562 [00:00<00:02, 635.38it/s]train Accuracy:- 0.97922\n",
      "100%|██████████| 1562/1562 [00:02<00:00, 595.86it/s]\n",
      "Test Accuracy:-  0.9701\n",
      "  4%|▍         | 64/1562 [00:00<00:02, 635.35it/s]train Accuracy:- 0.98254\n",
      "100%|██████████| 1562/1562 [00:02<00:00, 600.14it/s]\n",
      "Test Accuracy:-  0.9715\n",
      "  4%|▎         | 58/1562 [00:00<00:02, 570.34it/s]train Accuracy:- 0.98492\n",
      "100%|██████████| 1562/1562 [00:02<00:00, 610.41it/s]\n",
      "Test Accuracy:-  0.9756\n",
      "  4%|▎         | 56/1562 [00:00<00:02, 552.42it/s]train Accuracy:- 0.99068\n",
      "100%|██████████| 1562/1562 [00:02<00:00, 639.08it/s]\n",
      "Test Accuracy:-  0.9757\n",
      "  8%|▊         | 127/1562 [00:00<00:02, 624.11it/s]train Accuracy:- 0.99286\n",
      "100%|██████████| 1562/1562 [00:02<00:00, 624.70it/s]\n",
      "Test Accuracy:-  0.9739\n",
      "  4%|▍         | 59/1562 [00:00<00:02, 585.89it/s]train Accuracy:- 0.99176\n",
      "100%|██████████| 1562/1562 [00:02<00:00, 641.81it/s]\n",
      "Test Accuracy:-  0.9765\n",
      "  4%|▍         | 68/1562 [00:00<00:02, 668.95it/s]train Accuracy:- 0.9938\n",
      "100%|██████████| 1562/1562 [00:02<00:00, 651.73it/s]\n",
      "Test Accuracy:-  0.9772\n",
      "  4%|▍         | 70/1562 [00:00<00:02, 690.40it/s]train Accuracy:- 0.99506\n",
      "100%|██████████| 1562/1562 [00:02<00:00, 662.04it/s]\n",
      "Test Accuracy:-  0.9779\n",
      "  9%|▉         | 137/1562 [00:00<00:02, 689.76it/s]train Accuracy:- 0.99604\n",
      "100%|██████████| 1562/1562 [00:02<00:00, 660.10it/s]\n",
      "Test Accuracy:-  0.9754\n",
      "  4%|▍         | 65/1562 [00:00<00:02, 645.26it/s]train Accuracy:- 0.99448\n",
      "100%|██████████| 1562/1562 [00:02<00:00, 653.65it/s]\n",
      "Test Accuracy:-  0.9782\n",
      "  4%|▍         | 69/1562 [00:00<00:02, 685.99it/s]train Accuracy:- 0.99836\n",
      "100%|██████████| 1562/1562 [00:02<00:00, 661.70it/s]\n",
      "Test Accuracy:-  0.9781\n",
      "  4%|▍         | 67/1562 [00:00<00:02, 657.65it/s]train Accuracy:- 0.99784\n",
      "100%|██████████| 1562/1562 [00:02<00:00, 655.46it/s]\n",
      "Test Accuracy:-  0.9788\n",
      "  9%|▉         | 137/1562 [00:00<00:02, 673.20it/s]train Accuracy:- 0.99888\n",
      "100%|██████████| 1562/1562 [00:02<00:00, 658.12it/s]\n",
      "Test Accuracy:-  0.979\n",
      "  4%|▍         | 65/1562 [00:00<00:02, 644.29it/s]train Accuracy:- 0.99908\n",
      "100%|██████████| 1562/1562 [00:02<00:00, 649.79it/s]\n",
      "Test Accuracy:-  0.9794\n",
      "  9%|▊         | 134/1562 [00:00<00:02, 666.19it/s]train Accuracy:- 0.99954\n",
      "100%|██████████| 1562/1562 [00:02<00:00, 641.62it/s]\n",
      "Test Accuracy:-  0.9795\n",
      "  8%|▊         | 132/1562 [00:00<00:02, 655.49it/s]train Accuracy:- 0.99972\n",
      "100%|██████████| 1562/1562 [00:02<00:00, 646.74it/s]\n",
      "Test Accuracy:-  0.9801\n",
      "train Accuracy:- 0.99976\n"
     ]
    }
   ],
   "source": [
    "for epoch in range(20):\n",
    "\n",
    "    for x_batch,y_batch in iterate_minibatches(X_train,Y_train,batchsize=32):\n",
    "        AL,caches=L_layer_forward_pass(x_batch,parameters)\n",
    "        loss=softmax_loss(AL,y_batch)\n",
    "        grads=L_model_backward(AL, y_batch, caches)\n",
    "        parameters=update_parameters(parameters, grads, 0.1)\n",
    "    print(\"Test Accuracy:- \",predict(X_test,Y_test,parameters))\n",
    "    print(\"train Accuracy:-\",predict(X_train,Y_train_1,parameters))"
   ]
  },
  {
   "cell_type": "code",
   "execution_count": 31,
   "metadata": {},
   "outputs": [
    {
     "output_type": "execute_result",
     "data": {
      "text/plain": [
       "'0.9801'"
      ]
     },
     "metadata": {},
     "execution_count": 31
    }
   ],
   "source": [
    "predict(X_test,Y_test,parameters)"
   ]
  },
  {
   "cell_type": "code",
   "execution_count": 32,
   "metadata": {},
   "outputs": [
    {
     "output_type": "execute_result",
     "data": {
      "text/plain": [
       "'0.99976'"
      ]
     },
     "metadata": {},
     "execution_count": 32
    }
   ],
   "source": [
    "predict(X_train,Y_train,parameters)"
   ]
  },
  {
   "cell_type": "code",
   "execution_count": null,
   "metadata": {},
   "outputs": [],
   "source": []
  }
 ]
}